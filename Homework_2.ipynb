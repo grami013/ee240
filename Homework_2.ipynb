{
 "cells": [
  {
   "cell_type": "markdown",
   "metadata": {},
   "source": [
    "Guillermo Ramirez  \n",
    "861299027  \n",
    "EE 240  \n",
    "HW 2  "
   ]
  },
  {
   "cell_type": "markdown",
   "metadata": {},
   "source": [
    "### H2.1\n",
    "(a) Show the the following log-logistic function is convex:  \n",
    "$$f(\\textbf{w})=log(1 + exp(−\\textbf{w}^T \\textbf{x}))$$\n",
    "You may assume that $\\textbf{x}$ is a scalar and show that the second derivative of $f(\\textbf{w})$ w.r.t. $\\textbf{w}$ is always positive."
   ]
  },
  {
   "cell_type": "markdown",
   "metadata": {},
   "source": [
    "$$\\frac{\\partial f(\\textbf{w})}{\\partial\\textbf{w}}=\\frac{\\partial}{\\partial\\textbf{w}} log(1 + e^{−\\textbf{w}^T \\textbf{x}})$$\n",
    "$$\\frac{\\partial f(\\textbf{w})}{\\partial\\textbf{w}}=\\frac{e^{−\\textbf{w}^T \\textbf{x}}(-\\textbf{x})}{1 + e^{−\\textbf{w}^T \\textbf{x}}}$$\n"
   ]
  },
  {
   "cell_type": "markdown",
   "metadata": {},
   "source": [
    "$$\\frac{\\partial ^2 f(\\textbf{w})}{\\partial \\textbf{w}^2}=\\frac{\\partial}{\\partial\\textbf{w}}\\frac{e^{−\\textbf{w}^T \\textbf{x}}(-\\textbf{x})}{1 + e^{−\\textbf{w}^T \\textbf{x}}}$$\n"
   ]
  },
  {
   "cell_type": "markdown",
   "metadata": {},
   "source": [
    "$$\\frac{\\partial ^2 f(\\textbf{w})}{\\partial \\textbf{w}^2}=-\\textbf{x}\\frac{\\partial}{\\partial\\textbf{w}} [e^{-\\textbf{w}^T\\textbf{x}}(1 + e^{−\\textbf{w}^T \\textbf{x}})^{-1}]$$"
   ]
  },
  {
   "cell_type": "markdown",
   "metadata": {},
   "source": [
    "$$\\frac{\\partial ^2 f(\\textbf{w})}{\\partial \\textbf{w}^2}=-\\textbf{x}\\left[\\frac{e^{−\\textbf{w}^T \\textbf{x}}(-\\textbf{x})}{1 + e^{−\\textbf{w}^T \\textbf{x}}}+\\frac{-e^{−\\textbf{w}^T \\textbf{x}}(-\\textbf{x})(e^{−\\textbf{w}^T \\textbf{x}})}{(1 + e^{−\\textbf{w}^T \\textbf{x}})^2}\\right]$$"
   ]
  },
  {
   "cell_type": "markdown",
   "metadata": {},
   "source": [
    "$$\\frac{\\partial ^2 f(\\textbf{w})}{\\partial \\textbf{w}^2}=\\textbf{x}^2\\left[\\frac{e^{−\\textbf{w}^T \\textbf{x}}}{1 + e^{−\\textbf{w}^T \\textbf{x}}}-\\left(\\frac{e^{−\\textbf{w}^T \\textbf{x}}}{1 + e^{−\\textbf{w}^T \\textbf{x}}}\\right) ^2\\right]$$"
   ]
  },
  {
   "cell_type": "markdown",
   "metadata": {},
   "source": [
    "$$\\frac{\\partial ^2 f(\\textbf{w})}{\\partial \\textbf{w}^2}=\\textbf{x}^2\\left[\\frac{e^{−\\textbf{w}^T \\textbf{x}}(1 + e^{−\\textbf{w}^T \\textbf{x}})-(e^{−\\textbf{w}^T \\textbf{x}})^2}{(1 + e^{−\\textbf{w}^T \\textbf{x}})^2} \\right]$$"
   ]
  },
  {
   "cell_type": "markdown",
   "metadata": {},
   "source": [
    "$$\\frac{\\partial ^2 f(\\textbf{w})}{\\partial \\textbf{w}^2}=\\textbf{x}^2\\left[\\frac{e^{−\\textbf{w}^T \\textbf{x}}}{(1 + e^{−\\textbf{w}^T \\textbf{x}})^2} \\right]$$"
   ]
  },
  {
   "cell_type": "markdown",
   "metadata": {},
   "source": [
    "$$\\frac{\\partial ^2 f(\\textbf{w})}{\\partial \\textbf{w}^2}\\geq 0$$"
   ]
  },
  {
   "cell_type": "markdown",
   "metadata": {},
   "source": [
    "(b) Next you will write a Python script for logistic regression that solves (1) using gradient descent algorithm with a fixed step size α. You will then use your code to learn to classify images of digits from the MNIST dataset."
   ]
  },
  {
   "cell_type": "code",
   "execution_count": 1,
   "metadata": {},
   "outputs": [],
   "source": [
    "import numpy as np\n",
    "import scipy.io as sio\n",
    "mnist =sio.loadmat('mnist-original.mat')\n",
    "data=mnist['data']\n",
    "label=mnist['label']\n",
    "data = (data - np.mean(data,axis=0))/(np.std(data,axis=0)+0.1)\n",
    "\n",
    "train_x = data[:,0:60000]\n",
    "train_y = label[0,0:60000]\n",
    "test_x = data[:,60000:70000]\n",
    "test_y = label[0,60000:70000]\n",
    "#Then choose the data corresponding to digits \"0\" and \"1\".\n",
    "# Choose only two digits\n",
    "class_0=0\n",
    "class_1=1\n",
    "\n",
    "idx_train=[]\n",
    "for i in range (0,train_y.shape[0]):\n",
    "    if (train_y[i]==class_0) or (train_y[i]==class_1):\n",
    "        idx_train=np.append(idx_train,i)\n",
    "        \n",
    "idx_test=[]\n",
    "for i in range (0,test_y.shape[0]):\n",
    "    if (test_y[i]==class_0) or (test_y[i]==class_1):\n",
    "        idx_test=np.append(idx_test,i)\n",
    "        \n",
    "train_x=np.transpose(train_x)\n",
    "test_x=np.transpose(test_x)\n",
    "trainx=[]\n",
    "trainy=[]\n",
    "testx=[]\n",
    "testy=[]\n",
    "\n",
    "for i in range(0,idx_train.shape[0]):\n",
    "    trainx.append(train_x[np.int(idx_train[i]),:])\n",
    "    if train_y[np.int(idx_train[i])]==class_0:\n",
    "        trainy.append(0)\n",
    "    else:\n",
    "        trainy.append(1)\n",
    "for i in range(0,idx_test.shape[0]):\n",
    "    testx.append(test_x[np.int(idx_test[i]),:])\n",
    "    if test_y[np.int(idx_test[i])]==class_0:\n",
    "        testy.append(0)\n",
    "    else:\n",
    "        testy.append(1)\n",
    "        \n",
    "train_x=np.array(trainx)\n",
    "train_y = np.array(trainy)\n",
    "test_x = np.array(testx)\n",
    "test_y = np.array(testy)\n",
    "\n",
    "#After that you need to append 1 before the feature vectors.\n",
    "\n",
    "train_x = np.insert(train_x,0,1,axis=1)\n",
    "test_x = np.insert(test_x,0,1,axis=1)\n",
    "\n",
    "#Then write your codes for logistic regression.\n",
    "# Define a sigmoid function\n",
    "\n",
    "def sigmoid(x):\n",
    "    return 1/(1+np.exp(-x))\n",
    "sigmoid_vec = np.vectorize(sigmoid)\n"
   ]
  },
  {
   "cell_type": "code",
   "execution_count": 2,
   "metadata": {},
   "outputs": [],
   "source": [
    "# Define the gradient function\n",
    "def gradient(w , x , y):\n",
    "    h_w = sigmoid_vec(np.matmul(x,w))\n",
    "    grad  = -(np.matmul((y - h_w),x))\n",
    "    return grad"
   ]
  },
  {
   "cell_type": "code",
   "execution_count": 3,
   "metadata": {},
   "outputs": [],
   "source": [
    "def log_reg(w, x, y, a):\n",
    "    w_past = w\n",
    "    grad = gradient(w,x,y)\n",
    "    w = w - (a*grad)\n",
    "    i = 0\n",
    "    print(i)\n",
    "    while(np.sum(w - w_past) > 0.000001 ):\n",
    "        grad = gradient(w,x,y)\n",
    "        w_past =  w\n",
    "        w = w - (a*grad)\n",
    "        print('Iteration %d' %i)\n",
    "        i += 1\n",
    "    return w\n",
    "        "
   ]
  },
  {
   "cell_type": "code",
   "execution_count": 4,
   "metadata": {},
   "outputs": [
    {
     "name": "stdout",
     "output_type": "stream",
     "text": [
      "0\n",
      "99.14893617021276\n"
     ]
    }
   ],
   "source": [
    "w = np.ones(train_x.shape[1])\n",
    "a = .00001\n",
    "w = log_reg(w,train_x, train_y,a)\n",
    "#print(w)\n",
    "##Your code goes here ...\n",
    "# Write your code for logistic regression\n",
    "# with gradient descent with a fixed step size\n",
    "##Your code goes here ...\n",
    "# w is the output of logistic regression (includes weights and constant term)\n",
    "\n",
    "predict = np.round(sigmoid_vec(np.matmul(test_x.astype(float),w)))\n",
    "acc =100.0*np.sum(test_y == predict)/test_y.shape[0]\n",
    "print(acc)"
   ]
  },
  {
   "cell_type": "markdown",
   "metadata": {},
   "source": [
    "### H2.2\n",
    "(a) Data Processing: Generate two examples of 2D linearly separable dataset with N = 100 samples each. (To do this, you will first generate a weight vector and constant term, w, and then assign ±1 labels to your data samples as yi = hw(xi).) Let us call the two datasets “Data1” and “Data2”. For Data1, randomly select 80% of the samples for training and the remaining 20% for testing on Data1 (80/20). For Data2, randomly select 30% of the samples for training and the remaining 70% for testing (30/70)."
   ]
  },
  {
   "cell_type": "code",
   "execution_count": 26,
   "metadata": {},
   "outputs": [],
   "source": [
    "from matplotlib import pyplot as plt\n",
    "N = 100\n",
    "Data1 = np.random.rand(N,2)\n",
    "#print(Data1)\n",
    "Data2 = -1*np.random.rand(N,2)\n",
    "#Data2[:,1]*= -1\n",
    "#plt.scatter(Data1[:,0],Data1[:,1])\n",
    "#plt.scatter(Data2[:,0],Data2[:,1])\n",
    "#plt.show()\n",
    "train1_indx = np.random.choice(100, 100,replace=False)\n",
    "train2_indx = np.random.choice(100, 100,replace=False)\n",
    "train1 = Data1[train1_indx[:80]]\n",
    "train2 = Data2[train2_indx[:30]]\n",
    "test1 = Data1[train1_indx[81:]]\n",
    "test2 = Data2[train2_indx[31:]]\n",
    "train_label = np.ones(110)\n",
    "train_set =np.concatenate((train1,train2),axis=0)\n",
    "train_label[80:] = -1\n",
    "test_set = np.concatenate((test1,test2),axis=0)\n",
    "test_label = np.ones(110)\n",
    "test_label[20:] = -1\n",
    "#plt.scatter(train1[:,0],train1[:,1],c = 'red')\n",
    "#plt.scatter(train2[:,0],train2[:,1],c = 'blue')"
   ]
  },
  {
   "cell_type": "markdown",
   "metadata": {},
   "source": [
    "(b) Implementation: Write a script for PLA in Python by initializing w = 0 and using the following update rule:  \n",
    "\n",
    "for i=1,...,N\n",
    "$$w = w +\\frac{1}{2}(y_i − h_w(x_i))x_i$$"
   ]
  },
  {
   "cell_type": "code",
   "execution_count": 6,
   "metadata": {},
   "outputs": [],
   "source": [
    "def find_sign(w,train):\n",
    "    h_w_1 = np.matmul(train,w)\n",
    "    return np.sign(h_w_1)\n",
    "\n",
    "def PLA(w,data,label):\n",
    "    #print(label.size)\n",
    "    for i in range(label.size):\n",
    "        h_w = find_sign(w,data)\n",
    "        w = w + .5*(label[i] - h_w[i])*data[i]\n",
    "        #print(h_w)\n",
    "    return w"
   ]
  },
  {
   "cell_type": "markdown",
   "metadata": {},
   "source": [
    "(c)"
   ]
  },
  {
   "cell_type": "code",
   "execution_count": 25,
   "metadata": {},
   "outputs": [
    {
     "name": "stdout",
     "output_type": "stream",
     "text": [
      "[0.38237471 0.36351026]\n",
      "[0.20639322 0.22670593]\n"
     ]
    },
    {
     "data": {
      "image/png": "[encoded data removed]",
      "text/plain": [
       "<Figure size 432x288 with 1 Axes>"
      ]
     },
     "metadata": {
      "needs_background": "light"
     },
     "output_type": "display_data"
    },
    {
     "data": {
      "image/png": "[encoded data removed]",
      "text/plain": [
       "<Figure size 432x288 with 1 Axes>"
      ]
     },
     "metadata": {
      "needs_background": "light"
     },
     "output_type": "display_data"
    }
   ],
   "source": [
    "w1 = np.array([0,0])\n",
    "w2 = np.array([0,0])\n",
    "#print(w)\n",
    "\n",
    "w1 = PLA(w1,train1, np.ones(80))\n",
    "w2 = PLA(w2,train2, -1*np.ones(30))\n",
    "h_w1 = find_sign(w1,train_set)\n",
    "w_w2 = find_sign(w2,train_set)\n",
    "\n",
    "print(w1)\n",
    "print(w2)\n",
    "x = np.linspace(-.75,.75,100)\n",
    "\n",
    "y1 = -(1/w1[1])/(1/w1[0]) * x\n",
    "y2 = -(1/w2[1])/(1/w2[0])  * x\n",
    "plt.figure(1)\n",
    "plt.scatter(train1[:,0],train1[:,1],c = 'red',label = \"+ Train Data\")\n",
    "plt.scatter(test1[:,0],test1[:,1],marker ='*',c = 'red', label = \"+ Test Data\")\n",
    "#plt.scatter(train2[:,0],train2[:,1],c = 'blue', label = \"- Train Data\")\n",
    "plt.scatter(test2[:,0],test2[:,1],marker ='*',c = 'blue', label = \"- Test Data\")\n",
    "plt.plot(x,y1)\n",
    "plt.plot([0, w1[0]],[0, w1[1]])\n",
    "plt.xlim(-1, 1)\n",
    "plt.ylim(-1, 1)\n",
    "plt.legend()\n",
    "plt.gca().set_aspect('equal', adjustable='box')\n",
    "\n",
    "plt.figure(2)\n",
    "#plt.scatter(train1[:,0],train1[:,1],c = 'red',label = \"+ Train Data\")\n",
    "plt.scatter(test1[:,0],test1[:,1],marker ='*',c = 'red', label = \"+ Test Data\")\n",
    "plt.scatter(train2[:,0],train2[:,1],c = 'blue', label = \"- Train Data\")\n",
    "plt.scatter(test2[:,0],test2[:,1],marker ='*',c = 'blue', label = \"- Test Data\")\n",
    "plt.plot(x,y2)\n",
    "plt.plot([0, w2[0]],[0, w2[1]])\n",
    "plt.xlim(-1, 1)\n",
    "plt.ylim(-1, 1)\n",
    "plt.legend()\n",
    "plt.gca().set_aspect('equal', adjustable='box')"
   ]
  },
  {
   "cell_type": "markdown",
   "metadata": {},
   "source": [
    "(d)"
   ]
  },
  {
   "cell_type": "code",
   "execution_count": null,
   "metadata": {},
   "outputs": [],
   "source": [
    "precision_w1 = "
   ]
  },
  {
   "cell_type": "code",
   "execution_count": null,
   "metadata": {},
   "outputs": [],
   "source": []
  },
  {
   "cell_type": "markdown",
   "metadata": {},
   "source": [
    "### H2.3"
   ]
  },
  {
   "cell_type": "markdown",
   "metadata": {},
   "source": [
    "(a)"
   ]
  },
  {
   "cell_type": "markdown",
   "metadata": {},
   "source": [
    "Solving for $\\phi$ we get:\n",
    "$$\\phi (\\textbf{x})= \\begin{bmatrix}\n",
    "1 & -\\sqrt{2} & -\\sqrt{2} & 1 & 1 &\\sqrt{2}\\\\\n",
    "1 & -\\sqrt{2} & \\sqrt{2} & 1 & 1 &-\\sqrt{2}\\\\\n",
    "1 & \\sqrt{2} & -\\sqrt{2} & 1 & 1 &-\\sqrt{2}\\\\\n",
    "1 & \\sqrt{2} & \\sqrt{2} & 1 & 1 &\\sqrt{2}\n",
    "\\end{bmatrix}$$"
   ]
  },
  {
   "cell_type": "markdown",
   "metadata": {},
   "source": [
    "which is linearly seperable using the classifier:\n",
    "$$h_\\textbf{w}(\\textbf{x}) = sign(\\textbf{w}^T\\textbf{x})$$\n",
    "for \n",
    "$$\\textbf{w} = \\begin{bmatrix}\n",
    "0 & 0 & 0 & 0 & 0 & 1\n",
    "\\end{bmatrix}$$"
   ]
  },
  {
   "cell_type": "code",
   "execution_count": 218,
   "metadata": {},
   "outputs": [
    {
     "name": "stdout",
     "output_type": "stream",
     "text": [
      "[[ 9. -1. -1.  1.]\n",
      " [-1.  9.  1. -1.]\n",
      " [-1.  1.  9. -1.]\n",
      " [ 1. -1. -1.  9.]]\n"
     ]
    }
   ],
   "source": [
    "from math import sqrt\n",
    "phi = np.array([[1, -sqrt(2),-sqrt(2), 1 , 1,sqrt(2)],[1, -sqrt(2),sqrt(2), 1 , 1,-sqrt(2)],[1, sqrt(2),-sqrt(2), 1 , 1,-sqrt(2)],[1, sqrt(2),sqrt(2), 1 , 1,sqrt(2)]])\n",
    "\n",
    "y = np.array([1, -1, -1, 1])\n",
    "G = np.zeros([4,4])\n",
    "for i in range(4):\n",
    "    for j in range(4):\n",
    "        G[i][j] = y[i]*y[j]*np.matmul(phi[i,:],phi[j,:])\n",
    "print(G)"
   ]
  },
  {
   "cell_type": "markdown",
   "metadata": {},
   "source": [
    "(b) \n",
    "$$ G = \\begin{bmatrix}\n",
    "9 & -1 & -1 & 1\\\\\n",
    "-1 & 9 & 1 & -1\\\\\n",
    "-1 & 1 & 9 &-1\\\\\n",
    "1 &-1 &-1 & 9\n",
    "\\end{bmatrix}$$"
   ]
  },
  {
   "cell_type": "markdown",
   "metadata": {},
   "source": [
    "$$L(\\alpha) = -\\frac{1}{2}\\alpha ^TG \\alpha+\\mathbb{1}^T\\alpha$$"
   ]
  },
  {
   "cell_type": "markdown",
   "metadata": {},
   "source": [
    "$$\\nabla_{\\alpha}L(\\alpha) = -G\\alpha+\\mathbb{1}=\\mathbb{0}$$"
   ]
  },
  {
   "cell_type": "markdown",
   "metadata": {},
   "source": [
    "$$\\begin{bmatrix}\n",
    "-9 & 1 & 1 & -1\\\\\n",
    "1 & -9 & -1 & 1\\\\\n",
    "1 & -1 & -9 &1\\\\\n",
    "-1 &1 &1 & -9\n",
    "\\end{bmatrix}\n",
    "\\begin{bmatrix}\n",
    "\\alpha_1\\\\\n",
    "\\alpha_2\\\\\n",
    "\\alpha_3\\\\\n",
    "\\alpha_4\n",
    "\\end{bmatrix} = \n",
    "\\begin{bmatrix}\n",
    "-1\\\\\n",
    "-1\\\\\n",
    "-1\\\\\n",
    "-1\n",
    "\\end{bmatrix}$$"
   ]
  },
  {
   "cell_type": "code",
   "execution_count": 224,
   "metadata": {},
   "outputs": [
    {
     "name": "stdout",
     "output_type": "stream",
     "text": [
      "[0.125 0.125 0.125 0.125]\n"
     ]
    }
   ],
   "source": [
    "alpha = np.linalg.solve(-G,[-1,-1,-1,-1])\n",
    "print(alpha)"
   ]
  },
  {
   "cell_type": "markdown",
   "metadata": {},
   "source": [
    "$$\\alpha = \\begin{bmatrix}\n",
    ".125&.125&.125&.125\n",
    "\\end{bmatrix}^T$$"
   ]
  },
  {
   "cell_type": "markdown",
   "metadata": {},
   "source": [
    "(c)\n",
    "$$\\alpha \\geq 0$$\n",
    "$$\\begin{bmatrix}\n",
    ".125&.125&.125&.125\n",
    "\\end{bmatrix}\\begin{bmatrix}\n",
    "1\\\\\n",
    "-1\\\\\n",
    "-1\\\\\n",
    "1\n",
    "\\end{bmatrix} $$$$=.125-.125-.125+.125 =0$$\n",
    "$$\\alpha^Ty = 0$$"
   ]
  },
  {
   "cell_type": "markdown",
   "metadata": {},
   "source": [
    "(d)"
   ]
  },
  {
   "cell_type": "code",
   "execution_count": 244,
   "metadata": {},
   "outputs": [
    {
     "name": "stdout",
     "output_type": "stream",
     "text": [
      "W =  [0.         0.         0.         0.         0.         0.70710678]\n",
      "Hw =  [ 1. -1. -1.  1.]\n"
     ]
    },
    {
     "data": {
      "text/plain": [
       "<StemContainer object of 3 artists>"
      ]
     },
     "execution_count": 244,
     "metadata": {},
     "output_type": "execute_result"
    },
    {
     "data": {
      "image/png": "[encoded data removed]",
      "text/plain": [
       "<Figure size 432x288 with 1 Axes>"
      ]
     },
     "metadata": {
      "needs_background": "light"
     },
     "output_type": "display_data"
    }
   ],
   "source": [
    "weight_vec = np.zeros(6)\n",
    "alpha = [.125,.125,.125,.125]\n",
    "for i in range(4):\n",
    "    weight_vec = weight_vec + alpha[i]*y[i]*phi[i,:]\n",
    "print('W = ' ,weight_vec)\n",
    "h_w_kernel = np.zeros(4)\n",
    "for i in range(4):\n",
    "    h_w_kernel[i] = np.matmul(phi[i,:],weight_vec)\n",
    "print('Hw = ', h_w_kernel)\n",
    "plt.stem(weight_vec)"
   ]
  },
  {
   "cell_type": "markdown",
   "metadata": {},
   "source": [
    "The 6th feature of the phi vector is the only one that has an effect on classification since the weight vector for all other features is 0."
   ]
  },
  {
   "cell_type": "markdown",
   "metadata": {},
   "source": [
    "### H2.4"
   ]
  },
  {
   "cell_type": "code",
   "execution_count": 225,
   "metadata": {},
   "outputs": [],
   "source": [
    "from sklearn.datasets import fetch_openml\n",
    "mnist = fetch_openml('mnist_784')"
   ]
  },
  {
   "cell_type": "code",
   "execution_count": 245,
   "metadata": {},
   "outputs": [],
   "source": [
    "y = np.array(mnist.target.astype(int))\n",
    "x = np.array(mnist.data.astype(int))\n",
    "X4 = x[y==4,:]\n",
    "X9 = x[y==9,:]"
   ]
  },
  {
   "cell_type": "code",
   "execution_count": null,
   "metadata": {},
   "outputs": [],
   "source": [
    "from sklearn import svm\n",
    "clf= svm.SVC(C=1.0,kernel='linear')\n",
    "clf.fit(x,y)"
   ]
  }
 ],
 "metadata": {
  "kernelspec": {
   "display_name": "Python 3",
   "language": "python",
   "name": "python3"
  },
  "language_info": {
   "codemirror_mode": {
    "name": "ipython",
    "version": 3
   },
   "file_extension": ".py",
   "mimetype": "text/x-python",
   "name": "python",
   "nbconvert_exporter": "python",
   "pygments_lexer": "ipython3",
   "version": "3.5.2"
  }
 },
 "nbformat": 4,
 "nbformat_minor": 4
}
