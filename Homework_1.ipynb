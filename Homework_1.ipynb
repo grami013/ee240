{
 "cells": [
  {
   "cell_type": "markdown",
   "metadata": {},
   "source": [
    "Guillermo Ramirez  \n",
    "861299027  \n",
    "EE 240  \n",
    "HW 1  "
   ]
  },
  {
   "cell_type": "markdown",
   "metadata": {},
   "source": [
    "Question 1: Here is an experiment that illustrates the difference between a single\n",
    "bin and multiple bins. Run a computer simulation for flipping 1,000 fair coins. Flip each coin\n",
    "independently 10 times. Let’s focus on 3 coins as follows. *c<sub>1<sub/>* is the first coin flipped; *c<sub>rand<sub/>* is a coin\n",
    "you choose at random; *c<sub>min<sub/>* is the coin that had the minimum frequency of heads (pick the earlier\n",
    "one in case of a tie). Let *ν<sub>1<sub/>*, *ν<sub>rand<sub/>*, and *ν<sub>min<sub/>* be the fraction of heads you obtain for the respective\n",
    "three coins. For a coin, let µ be its probability of heads."
   ]
  },
  {
   "cell_type": "markdown",
   "metadata": {},
   "source": [
    "    (a) What is µ for the three coins selected?"
   ]
  },
  {
   "cell_type": "code",
   "execution_count": 5,
   "metadata": {},
   "outputs": [],
   "source": [
    "import numpy as np\n",
    "all_coins = np.random.randint(2, size=(1000,10))\n",
    "# heads = 1\n",
    "# tails = 0\n",
    "heads_count = np.sum(all_coins,axis = 1)\n"
   ]
  }
 ],
 "metadata": {
  "kernelspec": {
   "display_name": "Python 2",
   "language": "python",
   "name": "python2"
  },
  "language_info": {
   "codemirror_mode": {
    "name": "ipython",
    "version": 2
   },
   "file_extension": ".py",
   "mimetype": "text/x-python",
   "name": "python",
   "nbconvert_exporter": "python",
   "pygments_lexer": "ipython2",
   "version": "2.7.12"
  }
 },
 "nbformat": 4,
 "nbformat_minor": 2
}
