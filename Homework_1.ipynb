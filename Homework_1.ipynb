{
 "cells": [
  {
   "cell_type": "markdown",
   "metadata": {},
   "source": [
    "Guillermo Ramirez  \n",
    "861299027  \n",
    "EE 240  \n",
    "HW 1  "
   ]
  },
  {
   "cell_type": "markdown",
   "metadata": {},
   "source": [
    "Question 1: Here is an experiment that illustrates the difference between a single\n",
    "bin and multiple bins. Run a computer simulation for flipping 1,000 fair coins. Flip each coin\n",
    "independently 10 times. Let’s focus on 3 coins as follows. *c<sub>1<sub/>* is the first coin flipped; *c<sub>rand<sub/>* is a coin\n",
    "you choose at random; *c<sub>min<sub/>* is the coin that had the minimum frequency of heads (pick the earlier\n",
    "one in case of a tie). Let *ν<sub>1<sub/>*, *ν<sub>rand<sub/>*, and *ν<sub>min<sub/>* be the fraction of heads you obtain for the respective\n",
    "three coins. For a coin, let µ be its probability of heads."
   ]
  },
  {
   "cell_type": "markdown",
   "metadata": {},
   "source": [
    "(a) What is µ for the three coins selected?"
   ]
  },
  {
   "cell_type": "markdown",
   "metadata": {},
   "source": [
    "*µ<sub>1</sub>* = *µ<sub>rand</sub>* = *µ<sub>min</sub>* = 0.5  "
   ]
  },
  {
   "cell_type": "markdown",
   "metadata": {},
   "source": [
    "(b) Repeat this entire experiment a large number of times (e.g., 100,000 runs of the entire experiment) to get several instances of ν1, νrand, and νmin and plot the histograms of the distributions of ν1, νrand, and νmin. Notice that which coins end up being crand and cmin may differ from one run to another.  "
   ]
  },
  {
   "cell_type": "code",
   "execution_count": 2,
   "metadata": {},
   "outputs": [],
   "source": [
    "import numpy as np\n",
    "import random\n",
    "from matplotlib import pyplot as plt\n",
    "mu_1 = .5\n",
    "mu_rand = .5\n",
    "mu_min = .5\n",
    "\n",
    "nu_1 = np.zeros(10000)\n",
    "nu_rand  = np.zeros(10000)\n",
    "nu_min = np.zeros(10000)\n",
    "\n",
    "for i in range(10000):\n",
    "    all_coins = np.random.randint(2, size=(1000,10))\n",
    "    # heads = 1\n",
    "    # tails = 0\n",
    "    heads_count = np.sum(all_coins,axis = 1)\n",
    "    rand_loc = random.randrange(1000)\n",
    "    min_loc = np.argmin(heads_count)\n",
    "    nu_1[i] = heads_count[0]/10.0\n",
    "    nu_rand[i] = heads_count[rand_loc]/10.0\n",
    "    nu_min[i] = heads_count[min_loc]/10.0\n",
    "    \n",
    "hist_nu_1,bins = np.histogram(nu_1,bins = [0,.1,.2,.3,.4,.5,.6,.7,.8,.9,1,1.1]) \n",
    "hist_nu_rand,bins = np.histogram(nu_rand,bins = [0,.1,.2,.3,.4,.5,.6,.7,.8,.9,1,1.1]) \n",
    "hist_nu_min,bins = np.histogram(nu_min,bins = [0,.1,.2,.3,.4,.5,.6,.7,.8,.9,1,1.1]) \n",
    "\n"
   ]
  },
  {
   "cell_type": "code",
   "execution_count": 17,
   "metadata": {},
   "outputs": [
    {
     "data": {
      "text/plain": [
       "Text(0.5, 0.98, 'Histogram of $\\\\nu_{min}$')"
      ]
     },
     "execution_count": 17,
     "metadata": {},
     "output_type": "execute_result"
    },
    {
     "data": {
      "image/png": "[encoded data removed]",
      "text/plain": [
       "<Figure size 432x288 with 1 Axes>"
      ]
     },
     "metadata": {
      "needs_background": "light"
     },
     "output_type": "display_data"
    },
    {
     "data": {
      "image/png": "[encoded data removed]",
      "text/plain": [
       "<Figure size 432x288 with 1 Axes>"
      ]
     },
     "metadata": {
      "needs_background": "light"
     },
     "output_type": "display_data"
    },
    {
     "data": {
      "image/png": "[encoded data removed]",
      "text/plain": [
       "<Figure size 432x288 with 1 Axes>"
      ]
     },
     "metadata": {
      "needs_background": "light"
     },
     "output_type": "display_data"
    }
   ],
   "source": [
    "fig_1 = plt.figure()\n",
    "fig1 = plt.subplot(111)\n",
    "fig1.hist(nu_1,bins = [0,.1,.2,.3,.4,.5,.6,.7,.8,.9,1,1.1])\n",
    "fig_1.suptitle(\"Histogram of $\\\\nu_1$\",fontsize = 16)\n",
    "\n",
    "fig_2 = plt.figure()\n",
    "fig2 = plt.subplot(111)\n",
    "fig2.hist(nu_rand,bins = [0,.1,.2,.3,.4,.5,.6,.7,.8,.9,1,1.1])\n",
    "fig_2.suptitle(\"Histogram of $\\\\nu_{rand}$\",fontsize = 16)\n",
    "\n",
    "fig_3 = plt.figure()\n",
    "fig3 = plt.subplot(111)\n",
    "fig3.hist(nu_min,bins = [0,.1,.2,.3,.4,.5,.6,.7,.8,.9,1,1.1])\n",
    "fig_3.suptitle(\"Histogram of $\\\\nu_{min}$\",fontsize = 16)\n",
    "\n",
    "\n",
    "\n",
    "\n"
   ]
  },
  {
   "cell_type": "markdown",
   "metadata": {},
   "source": [
    "(c) Using part 1b plot estimates for P[|ν − µ| > \u000f] as a function of \u000f, together with the Hoeffding bound 2e−2\u000f2N on the same graph."
   ]
  }
 ],
 "metadata": {
  "kernelspec": {
   "display_name": "Python 3",
   "language": "python",
   "name": "python3"
  },
  "language_info": {
   "codemirror_mode": {
    "name": "ipython",
    "version": 3
   },
   "file_extension": ".py",
   "mimetype": "text/x-python",
   "name": "python",
   "nbconvert_exporter": "python",
   "pygments_lexer": "ipython3",
   "version": "3.5.2"
  }
 },
 "nbformat": 4,
 "nbformat_minor": 2
}
