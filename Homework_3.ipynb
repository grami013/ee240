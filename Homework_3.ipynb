{
 "cells": [
  {
   "cell_type": "markdown",
   "metadata": {},
   "source": [
    "**H3.2:**"
   ]
  },
  {
   "cell_type": "markdown",
   "metadata": {},
   "source": [
    "(b)\n",
    "$$\\frac{\\partial J}{\\partial\\textbf{w}_i}=\\frac{\\partial J}{\\partial\\textbf{y}_i}\\frac{\\partial\\textbf{y}_i}{\\partial\\textbf{w}_i}$$\n",
    "$$\\frac{\\partial J}{\\partial\\textbf{y}} = \\hat{y}-y$$\n",
    "$$\\frac{\\partial\\textbf{y}_i}{\\partial\\textbf{w}_i} = \\frac{\\partial\\textbf{y}_i}{\\partial\\textbf{W}} = x^T$$\n",
    "$$\\frac{\\partial J}{\\partial\\textbf{w}_i}= (\\hat{y}-y)x^T$$  \n",
    "  \n",
    "$$\\frac{\\partial J}{\\partial\\textbf{b}}=\\frac{\\partial J}{\\partial\\textbf{y}}\\frac{\\partial\\textbf{y}_i}{\\partial\\textbf{b}}$$\n",
    "$$\\frac{\\partial J}{\\partial\\textbf{y}} = \\hat{y}-y$$\n",
    "$$\\frac{\\partial\\textbf{y}}{\\partial\\textbf{b}} = 1$$\n",
    "$$\\frac{\\partial J}{\\partial\\textbf{b}}= \\hat{y}-y$$"
   ]
  },
  {
   "cell_type": "code",
   "execution_count": 39,
   "metadata": {},
   "outputs": [
    {
     "name": "stdout",
     "output_type": "stream",
     "text": [
      "[[4 0 2 0]\n",
      " [0 0 2 0]]\n"
     ]
    }
   ],
   "source": [
    "import numpy as np\n",
    "\n",
    "x = np.array([[-1,-1,1,1],[-1,1,-1,1]])\n",
    "W1= -np.array([[1,2],[-2,1]])\n",
    "b1 = np.array([[1], [-1]])\n",
    "z1 = np.matmul(W1,x)+b1\n",
    "\n",
    "z1[z1<0] = 0\n",
    "print(z1)"
   ]
  }
 ],
 "metadata": {
  "kernelspec": {
   "display_name": "Python 3",
   "language": "python",
   "name": "python3"
  },
  "language_info": {
   "codemirror_mode": {
    "name": "ipython",
    "version": 3
   },
   "file_extension": ".py",
   "mimetype": "text/x-python",
   "name": "python",
   "nbconvert_exporter": "python",
   "pygments_lexer": "ipython3",
   "version": "3.5.2"
  }
 },
 "nbformat": 4,
 "nbformat_minor": 4
}
